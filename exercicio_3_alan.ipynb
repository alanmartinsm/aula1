{
  "nbformat": 4,
  "nbformat_minor": 0,
  "metadata": {
    "colab": {
      "provenance": [],
      "authorship_tag": "ABX9TyPzt0U3FVFZoKCilv1v07q+",
      "include_colab_link": true
    },
    "kernelspec": {
      "name": "python3",
      "display_name": "Python 3"
    },
    "language_info": {
      "name": "python"
    }
  },
  "cells": [
    {
      "cell_type": "markdown",
      "metadata": {
        "id": "view-in-github",
        "colab_type": "text"
      },
      "source": [
        "<a href=\"https://colab.research.google.com/github/alanmartinsm/aula1/blob/main/exercicio_3_alan.ipynb\" target=\"_parent\"><img src=\"https://colab.research.google.com/assets/colab-badge.svg\" alt=\"Open In Colab\"/></a>"
      ]
    },
    {
      "cell_type": "code",
      "execution_count": 7,
      "metadata": {
        "colab": {
          "base_uri": "https://localhost:8080/"
        },
        "id": "He9oIdmf5-ec",
        "outputId": "f3ce30fa-780f-4a36-dcf1-e4b6983e4389"
      },
      "outputs": [
        {
          "name": "stdout",
          "output_type": "stream",
          "text": [
            "texto: 3\n",
            "numero inteiro: 3\n",
            "numero decimal: 3.3\n"
          ]
        }
      ],
      "source": [
        "texto = str(input ('texto: '))\n",
        "numero = int(input('numero inteiro: '))\n",
        "decimal = float(input('numero decimal: '))\n",
        "\n"
      ]
    }
  ]
}